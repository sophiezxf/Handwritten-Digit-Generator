{
 "cells": [
  {
   "cell_type": "markdown",
   "metadata": {},
   "source": [
    "# Handwritten Digit Generator\n",
    "In this notebook, we will build a ganerative adversarial network to generate handwritten digit. Thanks to Udacity providing study material!\n",
    "\n",
    "## Brief Intro on GAN network\n",
    "The idea behind GANs is that there are two networks - a generator G and a discriminator D - competing against each other. The generator create fake data to pass to the discriminator. The discriminator also have sees real data and judge whether input data is fake or real. The purpose of generator is to fool the discriminator, which means to create data that looks as close as possible to real data. The purpose of discriminator is to figure out which data is real and which is fake. At the end of training, generator is able to create data very close to real ones. \n",
    "\n",
    "The visualization is attached below:\n",
    "\n",
    "![GAN_Diagram.png](https://c1.staticflickr.com/1/973/27850668338_4671349d77_b.jpg)\n",
    "\n",
    "Now, let us build this GAN network!"
   ]
  },
  {
   "cell_type": "code",
   "execution_count": 1,
   "metadata": {
    "collapsed": false
   },
   "outputs": [
    {
     "name": "stdout",
     "output_type": "stream",
     "text": [
      "Successfully downloaded train-images-idx3-ubyte.gz 9912422 bytes.\n",
      "Extracting MNIST_data/train-images-idx3-ubyte.gz\n",
      "Successfully downloaded train-labels-idx1-ubyte.gz 28881 bytes.\n",
      "Extracting MNIST_data/train-labels-idx1-ubyte.gz\n",
      "Successfully downloaded t10k-images-idx3-ubyte.gz 1648877 bytes.\n",
      "Extracting MNIST_data/t10k-images-idx3-ubyte.gz\n",
      "Successfully downloaded t10k-labels-idx1-ubyte.gz 4542 bytes.\n",
      "Extracting MNIST_data/t10k-labels-idx1-ubyte.gz\n"
     ]
    }
   ],
   "source": [
    "# Firstly, import packages and data!\n",
    "%matplotlib inline\n",
    "\n",
    "import pickle as pkl\n",
    "import numpy as np\n",
    "import tensorflow as tf\n",
    "import matplotlib.pyplot as plt\n",
    "\n",
    "from tensorflow.examples.tutorials.mnist import input_data\n",
    "mnist = input_data.read_data_sets('MNIST_data')"
   ]
  },
  {
   "cell_type": "markdown",
   "metadata": {},
   "source": [
    "## Model Inputs\n",
    "After importing data, it is the time to create model inputs. For GAN network, we need two inputs, one for the discriminator - inputs_real and one for the generator - inputs_fake. In the model inputs function, we set appropriate sizes and placeholder for inputs."
   ]
  },
  {
   "cell_type": "code",
   "execution_count": 2,
   "metadata": {
    "collapsed": true
   },
   "outputs": [],
   "source": [
    "def model_inputs(real_dim, fake_dim):\n",
    "    inputs_real = tf.placeholder(tf.float32, (None, real_dim), name='input_real')\n",
    "    inputs_fake = tf.placeholder(tf.float32, (None, fake_dim), name='input_fake')\n",
    "    return inputs_real, inputs_fake"
   ]
  },
  {
   "cell_type": "markdown",
   "metadata": {},
   "source": [
    "## GAN structure\n",
    "In this part, we start to build the network, looks like below\n",
    "![GAN.png](https://c1.staticflickr.com/1/977/39912695390_934e054ff8_b.jpg)\n",
    "In GAN network, we use Leaky ReLu for our hidden layer to prevent dying nodes."
   ]
  },
  {
   "cell_type": "code",
   "execution_count": 33,
   "metadata": {
    "collapsed": false
   },
   "outputs": [],
   "source": [
    "# Create discriminator\n",
    "def discriminator(x, n_units=128, reuse=False, alpha=0.01):\n",
    "    with tf.variable_scope('discriminator', reuse=reuse):\n",
    "        # Hidden layer\n",
    "        h1 = tf.layers.dense(x, n_units, activation=None)\n",
    "        # Add leaky relu as activation function\\\n",
    "        h1 = tf.maximum(alpha * h1, h1)\n",
    "        \n",
    "        logits = tf.layers.dense(h1, 1, activation=None)\n",
    "        out = tf.sigmoid(logits)\n",
    "        \n",
    "        return out, logits"
   ]
  },
  {
   "cell_type": "code",
   "execution_count": 34,
   "metadata": {
    "collapsed": true
   },
   "outputs": [],
   "source": [
    "# Create generator\n",
    "def generator(z, out_dim, n_units=128, reuse=False, alpha=0.01):\n",
    "    with tf.variable_scope('generator', reuse=reuse):\n",
    "        # Hidden layer\n",
    "        h1 = tf.layers.dense(z, n_units, activation=None)\n",
    "        h1 = tf.maximum(alpha * h1, h1)\n",
    "        \n",
    "        logits = tf.layers.dense(h1, out_dim, activation=None)\n",
    "        out = tf.tanh(logits)\n",
    "        \n",
    "        return out\n",
    "    "
   ]
  },
  {
   "cell_type": "markdown",
   "metadata": {},
   "source": [
    "## Hyperparameters\n",
    "After creating discriminator and generator, we set corresponding hyperparameters: "
   ]
  },
  {
   "cell_type": "code",
   "execution_count": 35,
   "metadata": {
    "collapsed": true
   },
   "outputs": [],
   "source": [
    "input_size = 28 * 28\n",
    "z_size = 100\n",
    "# Size of hidden layers for generator and discriminator\n",
    "g_hidden_size = 128\n",
    "d_hidden_size = 128\n",
    "# parameter for leaky ReLU\n",
    "alpha = 0.01\n",
    "# Smoothing\n",
    "smooth = 0.1\n"
   ]
  },
  {
   "cell_type": "markdown",
   "metadata": {},
   "source": [
    "## Construct network"
   ]
  },
  {
   "cell_type": "code",
   "execution_count": 36,
   "metadata": {
    "collapsed": false
   },
   "outputs": [],
   "source": [
    "tf.reset_default_graph()\n",
    "# Create input placeholder\n",
    "input_real, input_z = model_inputs(input_size, z_size)\n",
    "\n",
    "# Build the model\n",
    "g_model = generator(input_z, input_size, n_units=g_hidden_size, alpha=alpha)\n",
    "\n",
    "# Two discriminators, one for real data, one for fake data\n",
    "d_model_real, d_logits_real = discriminator(input_real, n_units=d_hidden_size, alpha=alpha)\n",
    "d_model_fake, d_logits_fake = discriminator(g_model, reuse=True, n_units=d_hidden_size, alpha=alpha)\n"
   ]
  },
  {
   "cell_type": "markdown",
   "metadata": {},
   "source": [
    "## Discriminator and Generator Losses"
   ]
  },
  {
   "cell_type": "code",
   "execution_count": 38,
   "metadata": {
    "collapsed": false
   },
   "outputs": [],
   "source": [
    "d_loss_real = tf.reduce_mean(\n",
    "                tf.nn.sigmoid_cross_entropy_with_logits(logits=d_logits_real,\n",
    "                                                        labels=tf.ones_like(\n",
    "                                                        d_logits_real) * (1 - smooth)))\n",
    "d_loss_fake = tf.reduce_mean(\n",
    "                tf.nn.sigmoid_cross_entropy_with_logits(logits=d_logits_fake,\n",
    "                                                        labels=tf.zeros_like(d_logits_real)))\n",
    "\n",
    "d_loss = d_loss_real + d_loss_fake\n",
    "\n",
    "g_loss = tf.reduce_mean(\n",
    "            tf.nn.sigmoid_cross_entropy_with_logits(logits=d_logits_fake,\n",
    "                                                   labels=tf.ones_like(d_logits_fake)))"
   ]
  },
  {
   "cell_type": "markdown",
   "metadata": {},
   "source": [
    "## Optimizers"
   ]
  },
  {
   "cell_type": "code",
   "execution_count": 43,
   "metadata": {
    "collapsed": false
   },
   "outputs": [],
   "source": [
    "learning_rate = 0.002\n",
    "\n",
    "t_vars = tf.trainable_variables()\n",
    "g_vars = [var for var in t_vars if var.name.startswith('generator')]\n",
    "d_vars = [var for var in t_vars if var.name.startswith('discriminator')]\n",
    "\n",
    "d_train_opt = tf.train.AdamOptimizer(learning_rate).minimize(d_loss, var_list=d_vars)\n",
    "g_train_opt = tf.train.AdamOptimizer(learning_rate).minimize(g_loss, var_list=g_vars)"
   ]
  },
  {
   "cell_type": "markdown",
   "metadata": {},
   "source": [
    "## Training"
   ]
  },
  {
   "cell_type": "code",
   "execution_count": 53,
   "metadata": {
    "collapsed": false
   },
   "outputs": [
    {
     "name": "stdout",
     "output_type": "stream",
     "text": [
      "Epoch 1/100... Discriminator Loss: 0.3939... Generator Loss: 4.2752...\n",
      "Epoch 2/100... Discriminator Loss: 0.3470... Generator Loss: 4.7495...\n",
      "Epoch 3/100... Discriminator Loss: 0.4102... Generator Loss: 3.7426...\n",
      "Epoch 4/100... Discriminator Loss: 0.4155... Generator Loss: 3.6919...\n",
      "Epoch 5/100... Discriminator Loss: 0.5119... Generator Loss: 6.2799...\n",
      "Epoch 6/100... Discriminator Loss: 0.6413... Generator Loss: 3.5367...\n",
      "Epoch 7/100... Discriminator Loss: 0.7968... Generator Loss: 3.4813...\n",
      "Epoch 8/100... Discriminator Loss: 0.6435... Generator Loss: 3.8280...\n",
      "Epoch 9/100... Discriminator Loss: 0.9525... Generator Loss: 3.2470...\n",
      "Epoch 10/100... Discriminator Loss: 0.9951... Generator Loss: 1.4906...\n",
      "Epoch 11/100... Discriminator Loss: 0.8319... Generator Loss: 2.8208...\n",
      "Epoch 12/100... Discriminator Loss: 0.9786... Generator Loss: 2.1802...\n",
      "Epoch 13/100... Discriminator Loss: 0.8509... Generator Loss: 1.8822...\n",
      "Epoch 14/100... Discriminator Loss: 1.2607... Generator Loss: 1.3219...\n",
      "Epoch 15/100... Discriminator Loss: 0.9784... Generator Loss: 2.2276...\n",
      "Epoch 16/100... Discriminator Loss: 1.0132... Generator Loss: 2.0732...\n",
      "Epoch 17/100... Discriminator Loss: 1.3646... Generator Loss: 2.0071...\n",
      "Epoch 18/100... Discriminator Loss: 1.1203... Generator Loss: 1.3921...\n",
      "Epoch 19/100... Discriminator Loss: 0.9638... Generator Loss: 2.3447...\n",
      "Epoch 20/100... Discriminator Loss: 0.8283... Generator Loss: 2.0584...\n",
      "Epoch 21/100... Discriminator Loss: 1.0381... Generator Loss: 1.8086...\n",
      "Epoch 22/100... Discriminator Loss: 0.9659... Generator Loss: 2.6220...\n",
      "Epoch 23/100... Discriminator Loss: 0.9982... Generator Loss: 1.8599...\n",
      "Epoch 24/100... Discriminator Loss: 1.0857... Generator Loss: 1.2417...\n",
      "Epoch 25/100... Discriminator Loss: 0.9626... Generator Loss: 2.3636...\n",
      "Epoch 26/100... Discriminator Loss: 1.1408... Generator Loss: 2.2096...\n",
      "Epoch 27/100... Discriminator Loss: 0.8154... Generator Loss: 2.1678...\n",
      "Epoch 28/100... Discriminator Loss: 1.0208... Generator Loss: 2.4076...\n",
      "Epoch 29/100... Discriminator Loss: 0.8371... Generator Loss: 2.5610...\n",
      "Epoch 30/100... Discriminator Loss: 1.0109... Generator Loss: 1.5162...\n",
      "Epoch 31/100... Discriminator Loss: 0.9301... Generator Loss: 1.7187...\n",
      "Epoch 32/100... Discriminator Loss: 0.7927... Generator Loss: 2.0028...\n",
      "Epoch 33/100... Discriminator Loss: 0.7925... Generator Loss: 2.3528...\n",
      "Epoch 34/100... Discriminator Loss: 1.0500... Generator Loss: 1.7678...\n",
      "Epoch 35/100... Discriminator Loss: 1.1044... Generator Loss: 1.7740...\n",
      "Epoch 36/100... Discriminator Loss: 0.9061... Generator Loss: 2.0388...\n",
      "Epoch 37/100... Discriminator Loss: 0.9143... Generator Loss: 2.2267...\n",
      "Epoch 38/100... Discriminator Loss: 0.7150... Generator Loss: 2.5112...\n",
      "Epoch 39/100... Discriminator Loss: 1.2894... Generator Loss: 1.4025...\n",
      "Epoch 40/100... Discriminator Loss: 0.8723... Generator Loss: 2.0347...\n",
      "Epoch 41/100... Discriminator Loss: 1.0288... Generator Loss: 1.6890...\n",
      "Epoch 42/100... Discriminator Loss: 0.9761... Generator Loss: 1.7446...\n",
      "Epoch 43/100... Discriminator Loss: 0.8575... Generator Loss: 1.7804...\n",
      "Epoch 44/100... Discriminator Loss: 0.8683... Generator Loss: 2.6248...\n",
      "Epoch 45/100... Discriminator Loss: 0.9421... Generator Loss: 2.1459...\n",
      "Epoch 46/100... Discriminator Loss: 0.8208... Generator Loss: 1.9721...\n",
      "Epoch 47/100... Discriminator Loss: 1.1271... Generator Loss: 1.4252...\n",
      "Epoch 48/100... Discriminator Loss: 1.1953... Generator Loss: 1.6257...\n",
      "Epoch 49/100... Discriminator Loss: 0.9840... Generator Loss: 1.6214...\n",
      "Epoch 50/100... Discriminator Loss: 0.9084... Generator Loss: 2.1127...\n",
      "Epoch 51/100... Discriminator Loss: 0.9630... Generator Loss: 1.8467...\n",
      "Epoch 52/100... Discriminator Loss: 0.8603... Generator Loss: 1.9850...\n",
      "Epoch 53/100... Discriminator Loss: 0.8504... Generator Loss: 2.1693...\n",
      "Epoch 54/100... Discriminator Loss: 1.1747... Generator Loss: 1.4709...\n",
      "Epoch 55/100... Discriminator Loss: 1.0117... Generator Loss: 1.8117...\n",
      "Epoch 56/100... Discriminator Loss: 1.0402... Generator Loss: 1.7820...\n",
      "Epoch 57/100... Discriminator Loss: 0.8814... Generator Loss: 2.1544...\n",
      "Epoch 58/100... Discriminator Loss: 1.1282... Generator Loss: 1.5113...\n",
      "Epoch 59/100... Discriminator Loss: 0.9885... Generator Loss: 1.9248...\n",
      "Epoch 60/100... Discriminator Loss: 1.0946... Generator Loss: 1.7388...\n",
      "Epoch 61/100... Discriminator Loss: 0.9999... Generator Loss: 1.5606...\n",
      "Epoch 62/100... Discriminator Loss: 1.1799... Generator Loss: 1.9333...\n",
      "Epoch 63/100... Discriminator Loss: 0.9777... Generator Loss: 2.1142...\n",
      "Epoch 64/100... Discriminator Loss: 0.8833... Generator Loss: 1.6742...\n",
      "Epoch 65/100... Discriminator Loss: 1.0411... Generator Loss: 1.9132...\n",
      "Epoch 66/100... Discriminator Loss: 1.1247... Generator Loss: 1.4346...\n",
      "Epoch 67/100... Discriminator Loss: 0.9491... Generator Loss: 1.9610...\n",
      "Epoch 68/100... Discriminator Loss: 1.0240... Generator Loss: 2.1658...\n",
      "Epoch 69/100... Discriminator Loss: 0.9728... Generator Loss: 2.1071...\n",
      "Epoch 70/100... Discriminator Loss: 0.9909... Generator Loss: 1.9165...\n",
      "Epoch 71/100... Discriminator Loss: 1.0090... Generator Loss: 1.8343...\n",
      "Epoch 72/100... Discriminator Loss: 0.8885... Generator Loss: 2.0749...\n",
      "Epoch 73/100... Discriminator Loss: 1.0835... Generator Loss: 1.4759...\n",
      "Epoch 74/100... Discriminator Loss: 0.9042... Generator Loss: 2.0930...\n",
      "Epoch 75/100... Discriminator Loss: 0.8796... Generator Loss: 1.9587...\n",
      "Epoch 76/100... Discriminator Loss: 0.9753... Generator Loss: 2.1010...\n",
      "Epoch 77/100... Discriminator Loss: 1.0387... Generator Loss: 1.6103...\n",
      "Epoch 78/100... Discriminator Loss: 0.7779... Generator Loss: 2.3556...\n",
      "Epoch 79/100... Discriminator Loss: 0.9338... Generator Loss: 1.9588...\n",
      "Epoch 80/100... Discriminator Loss: 0.9786... Generator Loss: 1.5179...\n",
      "Epoch 81/100... Discriminator Loss: 0.8623... Generator Loss: 2.0223...\n",
      "Epoch 82/100... Discriminator Loss: 0.9818... Generator Loss: 1.5902...\n",
      "Epoch 83/100... Discriminator Loss: 0.9048... Generator Loss: 2.0650...\n",
      "Epoch 84/100... Discriminator Loss: 1.0343... Generator Loss: 2.0249...\n",
      "Epoch 85/100... Discriminator Loss: 0.9051... Generator Loss: 1.9139...\n",
      "Epoch 86/100... Discriminator Loss: 1.0212... Generator Loss: 1.5637...\n",
      "Epoch 87/100... Discriminator Loss: 0.7892... Generator Loss: 1.9883...\n",
      "Epoch 88/100... Discriminator Loss: 0.9393... Generator Loss: 2.2886...\n",
      "Epoch 89/100... Discriminator Loss: 0.9080... Generator Loss: 2.1115...\n",
      "Epoch 90/100... Discriminator Loss: 0.9141... Generator Loss: 2.0073...\n",
      "Epoch 91/100... Discriminator Loss: 0.9927... Generator Loss: 1.8321...\n",
      "Epoch 92/100... Discriminator Loss: 1.0789... Generator Loss: 1.3732...\n",
      "Epoch 93/100... Discriminator Loss: 0.8823... Generator Loss: 1.9164...\n",
      "Epoch 94/100... Discriminator Loss: 0.9024... Generator Loss: 2.0426...\n",
      "Epoch 95/100... Discriminator Loss: 0.9547... Generator Loss: 1.7904...\n",
      "Epoch 96/100... Discriminator Loss: 0.9868... Generator Loss: 1.7170...\n",
      "Epoch 97/100... Discriminator Loss: 0.9184... Generator Loss: 1.7046...\n",
      "Epoch 98/100... Discriminator Loss: 0.9853... Generator Loss: 2.2029...\n",
      "Epoch 99/100... Discriminator Loss: 0.9414... Generator Loss: 2.1580...\n",
      "Epoch 100/100... Discriminator Loss: 0.8805... Generator Loss: 2.1416...\n"
     ]
    }
   ],
   "source": [
    "batch_size = 100\n",
    "epochs = 100\n",
    "samples = []\n",
    "losses = []\n",
    "\n",
    "saver = tf.train.Saver(var_list=g_vars)\n",
    "with tf.Session() as sess:\n",
    "    sess.run(tf.global_variables_initializer())\n",
    "    for e in range(epochs):\n",
    "        for ii in range(mnist.train.num_examples//batch_size):\n",
    "            batch = mnist.train.next_batch(batch_size)\n",
    "            \n",
    "            # reshape and rescale image to certain dim\n",
    "            batch_images = batch[0].reshape((batch_size, 784))\n",
    "            batch_images = batch_images*2 - 1\n",
    "            \n",
    "            # Sample random noise for G\n",
    "            batch_z = np.random.uniform(-1, 1, size=(batch_size, z_size))\n",
    "            \n",
    "            # Run Optimizers\n",
    "            _ = sess.run(d_train_opt, feed_dict={input_real: batch_images, input_z: batch_z})\n",
    "            _ = sess.run(g_train_opt, feed_dict={input_z: batch_z})\n",
    "        \n",
    "        # At the each end of the epoch, get the losses and print out\n",
    "        train_loss_d = sess.run(d_loss, {input_z: batch_z, input_real: batch_images})\n",
    "        train_loss_g = g_loss.eval({input_z: batch_z})\n",
    "        \n",
    "        print(\"Epoch {}/{}...\".format(e + 1, epochs),\n",
    "              \"Discriminator Loss: {:.4f}...\".format(train_loss_d),\n",
    "              \"Generator Loss: {:.4f}...\".format(train_loss_g))\n",
    "        \n",
    "        # Save losses to view after training\n",
    "        losses.append((train_loss_d, train_loss_g))\n",
    "        \n",
    "        # Sample from generator\n",
    "        sample_z = np.random.uniform(-1, 1, size=(16, z_size))\n",
    "        gen_samples = sess.run(\n",
    "                      generator(input_z, input_size, reuse=True),\n",
    "                      feed_dict={input_z: sample_z})\n",
    "        samples.append(gen_samples)\n",
    "        saver.save(sess, './checkpoints/generator.ckpt')           "
   ]
  },
  {
   "cell_type": "code",
   "execution_count": 54,
   "metadata": {
    "collapsed": true
   },
   "outputs": [],
   "source": [
    "# Save training generator samples\n",
    "with open('train_samples.pkl', 'wb') as f:\n",
    "    pkl.dump(samples,f)"
   ]
  },
  {
   "cell_type": "code",
   "execution_count": 56,
   "metadata": {
    "collapsed": false
   },
   "outputs": [
    {
     "data": {
      "text/plain": [
       "<matplotlib.legend.Legend at 0x12098c160>"
      ]
     },
     "execution_count": 56,
     "metadata": {},
     "output_type": "execute_result"
    },
    {
     "data": {
      "image/png": "[encoded data removed]",
      "text/plain": [
       "<Figure size 432x288 with 1 Axes>"
      ]
     },
     "metadata": {},
     "output_type": "display_data"
    }
   ],
   "source": [
    "## View training loss\n",
    "fig, ax = plt.subplots()\n",
    "losses = np.array(losses)\n",
    "plt.plot(losses.T[0], label='Discriminator')\n",
    "plt.plot(losses.T[1], label='Generator')\n",
    "plt.title(\"Training Losses\")\n",
    "plt.legend()"
   ]
  },
  {
   "cell_type": "code",
   "execution_count": null,
   "metadata": {
    "collapsed": true
   },
   "outputs": [],
   "source": [
    "def view"
   ]
  }
 ],
 "metadata": {
  "kernelspec": {
   "display_name": "Python 3",
   "language": "python",
   "name": "python3"
  },
  "language_info": {
   "codemirror_mode": {
    "name": "ipython",
    "version": 3
   },
   "file_extension": ".py",
   "mimetype": "text/x-python",
   "name": "python",
   "nbconvert_exporter": "python",
   "pygments_lexer": "ipython3",
   "version": "3.6.3"
  }
 },
 "nbformat": 4,
 "nbformat_minor": 2
}
